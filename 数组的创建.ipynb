{
 "cells": [
  {
   "cell_type": "code",
   "execution_count": null,
   "metadata": {},
   "outputs": [],
   "source": [
    "import numpy as np\n",
    "# 创建一维数组\n",
    "a = np.array([0, 1, 2, 3, 4])\n",
    "b = np.array((0, 1, 2, 3, 4))\n",
    "print(a, type(a))\n",
    "# [0 1 2 3 4] <class 'numpy.ndarray'>\n",
    "print(b, type(b))\n",
    "# [0 1 2 3 4] <class 'numpy.ndarray'>\n",
    "\n",
    "# 创建二维数组\n",
    "c = np.array([[11, 12, 13, 14, 15],\n",
    "              [16, 17, 18, 19, 20],\n",
    "              [21, 22, 23, 24, 25],\n",
    "              [26, 27, 28, 29, 30],\n",
    "              [31, 32, 33, 34, 35]])\n",
    "print(c, type(c))\n",
    "# [[11 12 13 14 15]\n",
    "#  [16 17 18 19 20]\n",
    "#  [21 22 23 24 25]\n",
    "#  [26 27 28 29 30]\n",
    "#  [31 32 33 34 35]] <class 'numpy.ndarray'>\n",
    "\n",
    "# 创建三维数组\n",
    "d = np.array([[(1.5, 2, 3), (4, 5, 6)],\n",
    "              [(3, 2, 1), (4, 5, 6)]])\n",
    "print(d, type(d))"
   ]
  },
  {
   "cell_type": "code",
   "execution_count": null,
   "metadata": {},
   "outputs": [],
   "source": [
    "import numpy as np\n",
    "x = [[1, 1, 1], [1, 1, 1], [1, 1, 1]]\n",
    "y = np.array(x)\n",
    "z = np.asarray(x)\n",
    "x[1][2] = 2\n",
    "print(x,type(x))\n",
    "# [[1, 1, 1], [1, 1, 2], [1, 1, 1]] <class 'list'>\n",
    "\n",
    "print(y,type(y))\n",
    "# [[1 1 1]\n",
    "#  [1 1 1]\n",
    "#  [1 1 1]] <class 'numpy.ndarray'>\n",
    "\n",
    "print(z,type(z))"
   ]
  },
  {
   "cell_type": "code",
   "execution_count": null,
   "metadata": {},
   "outputs": [],
   "source": []
  }
 ],
 "metadata": {
  "kernelspec": {
   "display_name": "Python 3",
   "language": "python",
   "name": "python3"
  },
  "language_info": {
   "codemirror_mode": {
    "name": "ipython",
    "version": 3
   },
   "file_extension": ".py",
   "mimetype": "text/x-python",
   "name": "python",
   "nbconvert_exporter": "python",
   "pygments_lexer": "ipython3",
   "version": "3.7.1"
  }
 },
 "nbformat": 4,
 "nbformat_minor": 2
}
